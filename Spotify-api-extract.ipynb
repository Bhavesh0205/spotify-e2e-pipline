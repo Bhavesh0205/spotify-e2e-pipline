{
 "cells": [
  {
   "cell_type": "code",
   "execution_count": 10,
   "id": "0fe45f03",
   "metadata": {},
   "outputs": [
    {
     "data": {
      "text/plain": [
       "'C:\\\\Users\\\\bhave\\\\OneDrive\\\\Spotify_lamda_code'"
      ]
     },
     "execution_count": 10,
     "metadata": {},
     "output_type": "execute_result"
    }
   ],
   "source": [
    "import json\n",
    "import os\n",
    "import spotipy\n",
    "from spotipy.oauth2 import SpotifyClientCredentials\n",
    "# package created by aws to programatically communicate with AWS service\n",
    "import boto3\n",
    "from datetime import datetime\n",
    "\n",
    "\n",
    "def lambda_handler(event, context):\n",
    "    client_id = os.environ.get('client_id')\n",
    "    client_secret = os.environ.get('client_secret')\n",
    "    \n",
    "    auth_manager = SpotifyClientCredentials(client_id = client_id , client_secret = client_secret )\n",
    "    sp = spotipy.Spotify(auth_manager=auth_manager)\n",
    "    playlists = sp.user_playlists(\"spotify\")\n",
    "    \n",
    "    playlist_link = 'https://open.spotify.com/playlist/4hOKQuZbraPDIfaGbM3lKI'\n",
    "    playlist_URI = playlist_link.split('/')[-1]\n",
    "    \n",
    "    spotify_data = sp.playlist_tracks(playlist_URI)\n",
    "    \n",
    "    client = boto3.client('s3')\n",
    "    \n",
    "    filename =\"spotify_raw\" + str(datetime.now()) + \".json\"\n",
    "    \n",
    "    client.put_object(\n",
    "        Bucket = \"spotify-etl-project-bhavesh\",\n",
    "        Key = \"raw_data/to_processed/\" + filename,\n",
    "        Body = json.dumps(spotify_data)\n",
    "        )"
   ]
  },
  {
   "cell_type": "code",
   "execution_count": 6,
   "id": "c3ffac7c",
   "metadata": {},
   "outputs": [],
   "source": [
    "\n"
   ]
  },
  {
   "cell_type": "code",
   "execution_count": null,
   "id": "a72f769a",
   "metadata": {},
   "outputs": [],
   "source": []
  }
 ],
 "metadata": {
  "kernelspec": {
   "display_name": "Python 3 (ipykernel)",
   "language": "python",
   "name": "python3"
  },
  "language_info": {
   "codemirror_mode": {
    "name": "ipython",
    "version": 3
   },
   "file_extension": ".py",
   "mimetype": "text/x-python",
   "name": "python",
   "nbconvert_exporter": "python",
   "pygments_lexer": "ipython3",
   "version": "3.10.9"
  }
 },
 "nbformat": 4,
 "nbformat_minor": 5
}
